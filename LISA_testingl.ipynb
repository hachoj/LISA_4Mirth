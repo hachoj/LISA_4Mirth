{
 "cells": [
  {
   "cell_type": "code",
   "metadata": {},
   "source": [
    "from transformers import AutoModelForCausalLM, AutoTokenizer, AutoModelForVision2Seq, AutoConfig\n",
    "\n",
    "model_name = \"Senqiao/LISA_Plus_7b\"\n",
    "\n",
    "tokenizer = AutoTokenizer.from_pretrained(model_name)\n",
    "print(\"Tokenizer loaded\")\n",
    "config = AutoConfig.from_pretrained(model_name)\n",
    "# print(config)\n",
    "model = AutoModelForVision2Seq.from_pretrained(model_name)\n",
    "\n",
    "# Move model to GPU if available\n",
    "\n",
    "import torch\n",
    "device = \"cuda\" if torch.cuda.is_available() else \"cpu\"\n",
    "model.to(device)"
   ],
   "outputs": [],
   "execution_count": null
  },
  {
   "cell_type": "code",
   "metadata": {},
   "source": [
    "input_text = \"What is reasoning segmentation?\"\n",
    "inputs = tokenizer(input_text, return_tensors=\"pt\").to(device)\n",
    "\n",
    "with torch.no_grad():\n",
    "    output = model.generate(**inputs, max_new_tokens=100)\n",
    "\n",
    "response = tokenizer.decode(output[0], skip_special_tokens=True)\n",
    "print(response)"
   ],
   "outputs": [],
   "execution_count": null
  }
 ],
 "metadata": {
  "kernelspec": {
   "display_name": "aiml",
   "language": "python",
   "name": "python3"
  },
  "language_info": {
   "codemirror_mode": {
    "name": "ipython",
    "version": 3
   },
   "file_extension": ".py",
   "mimetype": "text/x-python",
   "name": "python",
   "nbconvert_exporter": "python",
   "pygments_lexer": "ipython3",
   "version": "3.12.3"
  }
 },
 "nbformat": 4,
 "nbformat_minor": 2
}
