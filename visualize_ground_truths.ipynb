{
 "cells": [
  {
   "cell_type": "code",
   "execution_count": 6,
   "metadata": {},
   "outputs": [],
   "source": [
    "import numpy as np\n",
    "import matplotlib.pyplot as plt\n",
    "import cv2\n",
    "import os"
   ]
  },
  {
   "cell_type": "code",
   "execution_count": 22,
   "metadata": {},
   "outputs": [],
   "source": [
    "polyp_images_path = \"images/polyp\"\n",
    "retina1_images_path = \"images/retina1\"\n",
    "retina2_images_path = \"images/retina2\"\n",
    "chest_images_path = \"images/chest\"\n",
    "retina1_masks_path = \"masks/retina1\"\n",
    "retina2_masks_path = \"masks/retina2\"\n",
    "chest_masks_path = \"masks/chest\"\n",
    "polyp_masks_path = \"masks/polyp\"\n",
    "\n",
    "output_folder = \"ground_truths\"\n",
    "\n",
    "# loop through images\n",
    "for polyp_image in os.listdir(polyp_images_path):\n",
    "    # load image\n",
    "    image = cv2.imread(os.path.join(polyp_images_path, polyp_image))\n",
    "    # load mask\n",
    "    polyp_image = polyp_image.split(\".\")[0]\n",
    "    mask = cv2.imread(os.path.join(polyp_masks_path, polyp_image + \"_mask.png\"), cv2.IMREAD_GRAYSCALE)\n",
    "\n",
    "    # overlay mask on image with 50% opacity red\n",
    "    overlay = image.copy()\n",
    "    overlay[mask == 255] = [0, 0, 255]\n",
    "    output = cv2.addWeighted(image, 0.5, overlay, 0.5, 0)\n",
    "    # save output\n",
    "    cv2.imwrite(os.path.join(output_folder + \"/polyp\", polyp_image + \"_gt.png\"), output)"
   ]
  },
  {
   "cell_type": "code",
   "execution_count": 23,
   "metadata": {},
   "outputs": [
    {
     "name": "stderr",
     "output_type": "stream",
     "text": [
      "libpng error: Read Error\n"
     ]
    }
   ],
   "source": [
    "# same for chest\n",
    "for chest_image in os.listdir(chest_images_path):\n",
    "    try: \n",
    "        image = cv2.imread(os.path.join(chest_images_path, chest_image))\n",
    "        chest_image = chest_image.split(\".\")[0]\n",
    "        mask = cv2.imread(os.path.join(chest_masks_path, chest_image + \"_mask.png\"), cv2.IMREAD_GRAYSCALE)\n",
    "        if image is not None:\n",
    "            overlay = image.copy()\n",
    "            overlay[mask == 255] = [0, 0, 255]\n",
    "            output = cv2.addWeighted(image, 0.5, overlay, 0.5, 0)\n",
    "            cv2.imwrite(os.path.join(output_folder + \"/chest\", chest_image + \"_gt.png\"), output)\n",
    "    except:\n",
    "        print(\"Error with chest image: \" + chest_image)"
   ]
  },
  {
   "cell_type": "code",
   "execution_count": 25,
   "metadata": {},
   "outputs": [],
   "source": [
    "# same for retina 1\n",
    "for retina_image in os.listdir(retina1_images_path):\n",
    "    try:\n",
    "        image = cv2.imread(os.path.join(retina1_images_path, retina_image))\n",
    "        retina_image = retina_image.split(\".\")[0]\n",
    "        mask = cv2.imread(os.path.join(retina1_masks_path, retina_image + \"_mask.png\"), cv2.IMREAD_GRAYSCALE)\n",
    "        if image is not None:\n",
    "            overlay = image.copy()\n",
    "            overlay[mask == 255] = [0, 0, 255]\n",
    "            output = cv2.addWeighted(image, 0.5, overlay, 0.5, 0)\n",
    "            cv2.imwrite(os.path.join(output_folder + \"/retina1\", retina_image + \"_gt.png\"), output)\n",
    "    except:\n",
    "        print(\"Error with retina 1 image: \" + retina_image)\n",
    "# and then retina 2\n",
    "for retina_image in os.listdir(retina2_images_path):\n",
    "    try:\n",
    "        image = cv2.imread(os.path.join(retina2_images_path, retina_image))\n",
    "        retina_image = retina_image.split(\".\")[0]\n",
    "        mask1 = cv2.imread(os.path.join(retina2_masks_path, retina_image + \"_mask1.png\"), cv2.IMREAD_GRAYSCALE)\n",
    "        mask2 = cv2.imread(os.path.join(retina2_masks_path, retina_image + \"_mask2.png\"), cv2.IMREAD_GRAYSCALE)\n",
    "        if image is not None:\n",
    "            overlay1 = image.copy()\n",
    "            overlay2 = image.copy()\n",
    "            overlay1[mask1 == 255] = [0, 0, 255]\n",
    "            overlay2[mask2 == 255] = [0, 0, 255]\n",
    "            output1 = cv2.addWeighted(image, 0.5, overlay1, 0.5, 0)\n",
    "            output2 = cv2.addWeighted(image, 0.5, overlay2, 0.5, 0)\n",
    "            cv2.imwrite(os.path.join(output_folder + \"/retina2\", retina_image + \"_gt1.png\"), output1)\n",
    "            cv2.imwrite(os.path.join(output_folder + \"/retina2\", retina_image + \"_gt2.png\"), output2)\n",
    "    except:\n",
    "        print(\"Error with retina 2 image: \" + retina_image)"
   ]
  },
  {
   "cell_type": "code",
   "execution_count": null,
   "metadata": {},
   "outputs": [],
   "source": []
  }
 ],
 "metadata": {
  "kernelspec": {
   "display_name": "LISA",
   "language": "python",
   "name": "python3"
  },
  "language_info": {
   "codemirror_mode": {
    "name": "ipython",
    "version": 3
   },
   "file_extension": ".py",
   "mimetype": "text/x-python",
   "name": "python",
   "nbconvert_exporter": "python",
   "pygments_lexer": "ipython3",
   "version": "3.13.1"
  }
 },
 "nbformat": 4,
 "nbformat_minor": 2
}
