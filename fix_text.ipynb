{
 "cells": [
  {
   "cell_type": "code",
   "execution_count": 2,
   "metadata": {},
   "outputs": [],
   "source": [
    "import os\n",
    "import glob\n",
    "\n",
    "# Set the folder where the txt files are\n",
    "folder_path = \"MED_DATA/Kvasir-SEG/text/train\"  # adjust if needed\n",
    "\n",
    "# Specify the existing file to append to.\n",
    "output_file = \"MED_DATA/Kvasir-SEG/lables.txt\"\n",
    "\n",
    "# Choose a separator that is unlikely to appear in file names or contents.\n",
    "separator = \"\\t\"\n",
    "\n",
    "# Open the existing file in append mode.\n",
    "with open(output_file, \"a\", encoding=\"utf-8\") as out_f:\n",
    "    # Use glob to list all .txt files in the folder.\n",
    "    for file_path in glob.glob(os.path.join(folder_path, \"*.txt\")):\n",
    "        # If the output file happens to be in the same folder, skip it.\n",
    "        if os.path.abspath(file_path) == os.path.abspath(output_file):\n",
    "            continue\n",
    "\n",
    "        # Read the contents of the current file.\n",
    "        with open(file_path, \"r\", encoding=\"utf-8\") as file:\n",
    "            content = file.read()\n",
    "\n",
    "        # Flatten the content into a single line.\n",
    "        content_single_line = content.replace(\"\\n\", \" \")\n",
    "\n",
    "        # Append the filename, separator, and file content into the output file.\n",
    "        out_f.write(os.path.basename(file_path) + separator + content_single_line + \"\\n\")"
   ]
  },
  {
   "cell_type": "code",
   "execution_count": 5,
   "metadata": {},
   "outputs": [
    {
     "name": "stdout",
     "output_type": "stream",
     "text": [
      "268\n"
     ]
    }
   ],
   "source": [
    "with open(output_file, \"r\", encoding=\"utf-8\") as f:\n",
    "    for line in f:\n",
    "        parts = line.strip().split(separator)\n",
    "        # Ensure there's a second part for the answer\n",
    "        if len(parts) > 1:\n",
    "            unique_answers.add(parts[1])\n",
    "\n",
    "print(len(unique_answers))\n",
    "with open(\"random_labels.txt\", \"w\", encoding=\"utf-8\") as f_write:\n",
    "    for answer in unique_answers:\n",
    "        f_write.write(answer + \"\\n\")"
   ]
  },
  {
   "cell_type": "code",
   "execution_count": null,
   "metadata": {},
   "outputs": [],
   "source": []
  }
 ],
 "metadata": {
  "kernelspec": {
   "display_name": "LISA",
   "language": "python",
   "name": "python3"
  },
  "language_info": {
   "codemirror_mode": {
    "name": "ipython",
    "version": 3
   },
   "file_extension": ".py",
   "mimetype": "text/x-python",
   "name": "python",
   "nbconvert_exporter": "python",
   "pygments_lexer": "ipython3",
   "version": "3.13.1"
  }
 },
 "nbformat": 4,
 "nbformat_minor": 2
}
